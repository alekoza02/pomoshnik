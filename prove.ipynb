{
 "cells": [
  {
   "cell_type": "code",
   "execution_count": 88,
   "metadata": {},
   "outputs": [
    {
     "name": "stdout",
     "output_type": "stream",
     "text": [
      "frase.lstrip() = 'prova   '\n",
      "frase.rstrip() = '   prova'\n",
      "frase.strip() = 'prova'\n"
     ]
    }
   ],
   "source": [
    "frase = \"   prova   \"\n",
    "print(f\"{frase.lstrip() = }\")\n",
    "print(f\"{frase.rstrip() = }\")\n",
    "print(f\"{frase.strip() = }\")"
   ]
  },
  {
   "cell_type": "code",
   "execution_count": 89,
   "metadata": {},
   "outputs": [
    {
     "name": "stdout",
     "output_type": "stream",
     "text": [
      "frase.find(\"ppo\", 4) = 7\n",
      "frase.rfind(\"ppo\", 4) = 7\n"
     ]
    }
   ],
   "source": [
    "frase = \"Ciao pippo\"\n",
    "\n",
    "print(f\"{frase.find(\"ppo\", 4) = }\")\n",
    "print(f\"{frase.rfind(\"ppo\", 4) = }\")"
   ]
  },
  {
   "cell_type": "code",
   "execution_count": 90,
   "metadata": {},
   "outputs": [
    {
     "name": "stdout",
     "output_type": "stream",
     "text": [
      "19\n",
      "-1\n",
      "-1\n",
      "-1\n",
      "-1\n",
      "-1\n",
      "-1\n",
      "-1\n",
      "-1\n",
      "-1\n",
      "-1\n",
      "-1\n",
      "Risultato: 19\n"
     ]
    }
   ],
   "source": [
    "elenco_ricercatori = [\" \", \"\\\\\", \"/\", \",\", \".\", \"-\", \"{\", \"}\", \"[\", \"]\", \"(\", \")\"]\n",
    "\n",
    "# TODO FIX THIS SHIT\n",
    "testo = \"Prova testo alessio cimma\"\n",
    "puntatore_pos = 12\n",
    "\n",
    "# movimento verso destra\n",
    "dst = len(testo)\n",
    "for ricercatore in elenco_ricercatori:\n",
    "    candidato = testo.find(ricercatore, puntatore_pos + 1)\n",
    "    print(candidato)\n",
    "    if candidato >= 0:\n",
    "        dst = min(candidato, dst)\n",
    "\n",
    "print(f\"Risultato: {dst}\")"
   ]
  },
  {
   "cell_type": "code",
   "execution_count": 91,
   "metadata": {},
   "outputs": [
    {
     "name": "stdout",
     "output_type": "stream",
     "text": [
      "SVG file 'example.svg' created successfully!\n"
     ]
    }
   ],
   "source": [
    "import svgwrite\n",
    "\n",
    "# Create an SVG drawing object with specific size\n",
    "# dwg = svgwrite.Drawing('examplelow.svg', size=(\"500px\", \"500px\"), profile='tiny')\n",
    "# dwg = svgwrite.Drawing('examplehigh.svg', size=(\"1000px\", \"1000px\"), profile='tiny')\n",
    "dwg = svgwrite.Drawing('examplerec.svg', size=(\"1000px\", \"500px\"), profile='tiny')\n",
    "\n",
    "# Add a title and description for accessibility and documentation\n",
    "# dwg.add(dwg.title(\"SVG Example\"))\n",
    "# dwg.add(dwg.desc(\"An example SVG file created using svgwrite\"))\n",
    "\n",
    "# Draw background\n",
    "dwg.add(dwg.rect(insert=(0, 0), size=(\"100%\", \"100%\"), fill=\"lightgray\"))\n",
    "\n",
    "\n",
    "# Draw a rectangle with rounded corners\n",
    "dwg.add(dwg.rect(insert=(10, 10), size=(200, 100), rx=15, ry=15, fill='lightblue', stroke='black', stroke_width=2))\n",
    "\n",
    "# Draw a circle\n",
    "dwg.add(dwg.circle(center=(300, 100), r=50, fill='lightgreen', stroke='black', stroke_width=2))\n",
    "\n",
    "# Draw an ellipse\n",
    "dwg.add(dwg.ellipse(center=(400, 300), r=(80, 40), fill='lightcoral', stroke='black', stroke_width=2))\n",
    "\n",
    "# Draw a line\n",
    "dwg.add(dwg.line(start=(10, 300), end=(200, 400), stroke='purple', stroke_width=3))\n",
    "\n",
    "# Draw a polyline (multiple connected line segments)\n",
    "dwg.add(dwg.polyline(points=[(100, 100), (150, 50), (200, 150), (250, 100)], fill='none', stroke='orange', stroke_width=2))\n",
    "\n",
    "# Draw a polygon (closed shape)\n",
    "dwg.add(dwg.polygon(points=[(50, 300), (150, 350), (100, 400)], fill='yellow', stroke='black', stroke_width=2))\n",
    "\n",
    "# Add some text\n",
    "dwg.add(dwg.text(\"Hello SVG!\", insert=(100, 450), fill='blue', font_size=\"30px\", font_family=\"Caskadya\"))\n",
    "\n",
    "# Add a complex path (triangle with a curve)\n",
    "dwg.add(dwg.path(d=\"M 300 300 L 350 350 Q 400 300 450 350 Z\", fill=\"lightpink\", stroke=\"black\", stroke_width=2))\n",
    "\n",
    "# Create a group and apply transformations (rotate and scale)\n",
    "group = dwg.g(id='group1', transform=\"rotate(45, 200, 200) scale(1.5)\")\n",
    "group.add(dwg.rect(insert=(200, 200), size=(100, 50), fill='none', stroke='blue', stroke_width=2))\n",
    "group.add(dwg.circle(center=(300, 300), r=30, fill='none', stroke='red', stroke_width=2))\n",
    "dwg.add(group)\n",
    "\n",
    "# Save the SVG file\n",
    "dwg.save()\n",
    "\n",
    "print(\"SVG file 'example.svg' created successfully!\")\n"
   ]
  },
  {
   "cell_type": "code",
   "execution_count": 106,
   "metadata": {},
   "outputs": [
    {
     "name": "stdout",
     "output_type": "stream",
     "text": [
      "[0.0, 2.5, 5.0, 7.5, 10.0, 12.5]\n"
     ]
    },
    {
     "data": {
      "image/png": "[encoded data removed]",
      "text/plain": [
       "<Figure size 640x480 with 1 Axes>"
      ]
     },
     "metadata": {},
     "output_type": "display_data"
    }
   ],
   "source": [
    "import matplotlib.pyplot as plt\n",
    "from math import ceil, floor\n",
    "import numpy as np\n",
    "\n",
    "\n",
    "def predicter(x):\n",
    "\n",
    "    def power_converter(value):\n",
    "\n",
    "        if value >= 0:\n",
    "            return float(\"1\" + \"0\" * value)            \n",
    "        else:\n",
    "            return 1 / float(\"1\" + \"0\" * -value)            \n",
    "\n",
    "\n",
    "    min_ticks = 3\n",
    "    max_ticks = 10\n",
    "    nice_values = [1, 2, 2.5, 5, 10]\n",
    "    \n",
    "    all_combinations = []\n",
    "    power_per_tick = []\n",
    "\n",
    "    delta = x[-1] - x[0]    \n",
    "\n",
    "    for n_ticks in range(min_ticks, max_ticks + 1):\n",
    "        \n",
    "        spacing = abs(delta / n_ticks)\n",
    "\n",
    "        run = 1\n",
    "        power = 0\n",
    "\n",
    "        while run:\n",
    "            if spacing * power_converter(power) // nice_values[0] <= 1:\n",
    "                power += 1\n",
    "            elif spacing * power_converter(power) // nice_values[-1] >= 1:\n",
    "                power -= 1\n",
    "\n",
    "            if spacing * power_converter(power) // nice_values[0] >= 1 and spacing * power_converter(power) // nice_values[-1] <= 1:\n",
    "                run = 0\n",
    "            \n",
    "        \n",
    "        all_combinations.append([abs(spacing * power_converter(power) - value) for value in nice_values])\n",
    "        power_per_tick.append(power_converter(-power))\n",
    "        \n",
    "    best_from_tick = []\n",
    "    for single_tick in all_combinations:\n",
    "        best_from_tick.append([min(single_tick), single_tick.index(min(single_tick))])\n",
    "\n",
    "    minimo = np.inf\n",
    "    indice_valore = 0\n",
    "    indice_tick = 0\n",
    "\n",
    "    \n",
    "    for index, contendente in enumerate(best_from_tick):\n",
    "        \n",
    "        if contendente[0] <= minimo:\n",
    "            minimo = contendente[0]\n",
    "            indice_valore = contendente[1]\n",
    "            indice_tick = index\n",
    "\n",
    "\n",
    "    new_start = round(x[0] / (nice_values[indice_valore] * power_per_tick[indice_tick])) * (nice_values[indice_valore] * power_per_tick[indice_tick])\n",
    "    \n",
    "    ris = [round(new_start + nice_values[indice_valore] * power_per_tick[indice_tick] * i, 3) for i in range(0, indice_tick + min_ticks + 1)]\n",
    "        \n",
    "    # decido se tenere l'ultimo elemento\n",
    "    while abs(x[-1] - ris[-1]) > abs(x[-1] - ris[-2]):\n",
    "        ris.pop()\n",
    "\n",
    "    print(ris)\n",
    "    return ris\n",
    "\n",
    "\n",
    "\n",
    "x = [-0.0100452340500, 13.454873]\n",
    "y = [0, 0]\n",
    "\n",
    "plt.plot(x, y)\n",
    "plt.xlabel(\"Ciccione\")\n",
    "plt.ylabel(\"Ciccione\")\n",
    "\n",
    "new_x = predicter(x)\n",
    "\n",
    "plt.scatter(new_x, [0 for _ in range(len(new_x))])\n",
    "plt.show()\n"
   ]
  },
  {
   "cell_type": "code",
   "execution_count": 3,
   "metadata": {},
   "outputs": [
    {
     "data": {
      "image/png": "[encoded data removed]",
      "text/plain": [
       "<Figure size 640x480 with 1 Axes>"
      ]
     },
     "metadata": {},
     "output_type": "display_data"
    }
   ],
   "source": [
    "import matplotlib.pyplot as plt\n",
    "import numpy as np\n",
    "\n",
    "w, h = 200, 200 # resolution\n",
    "mat = np.zeros((w, h, 3))\n",
    "\n",
    "def interpolation(value):\n",
    "    # 100 -> 110 -> 010 -> 011 -> 001 -> 101 -> 100\n",
    "    #  0  ->  1  ->  2  ->  3  ->  4  ->  5  ->  6\n",
    "    normalization_factor = 1 / 6\n",
    "    index = value // normalization_factor\n",
    "    inner_interpolation = (value % normalization_factor) / (1/6)\n",
    "\n",
    "    def interpolate(x1, y1, z1, x2, y2, z2, value):\n",
    "        \n",
    "        if value == 0:\n",
    "            x = x1\n",
    "            y = y1\n",
    "            z = z1\n",
    "        else:\n",
    "            x = x1 + (x2 - x1) * value\n",
    "            y = y1 + (y2 - y1) * value\n",
    "            z = z1 + (z2 - z1) * value\n",
    "\n",
    "        return np.array([x, y, z])\n",
    "\n",
    "    if index == 0:\n",
    "        return interpolate(1, 0, 0, 1, 1, 0, inner_interpolation)\n",
    "    elif index == 1:\n",
    "        return interpolate(1, 1, 0, 0, 1, 0, inner_interpolation)\n",
    "    elif index == 2:\n",
    "        return interpolate(0, 1, 0, 0, 1, 1, inner_interpolation)\n",
    "    elif index == 3:\n",
    "        return interpolate(0, 1, 1, 0, 0, 1, inner_interpolation)\n",
    "    elif index == 4:\n",
    "        return interpolate(0, 0, 1, 1, 0, 1, inner_interpolation)\n",
    "    elif index == 5:\n",
    "        return interpolate(1, 0, 1, 1, 0, 0, inner_interpolation)\n",
    "    elif index == 6:\n",
    "        return np.array([1, 0, 0])\n",
    "\n",
    "for x in range(w):\n",
    "    # controls Hue\n",
    "    mat[:, x, :] = interpolation(x / w) \n",
    "\n",
    "for y in range(h):\n",
    "    # controls Saturation\n",
    "    mat[y, :, :] *= 1 - (y / w)\n",
    "    mat[y, :, :] += (y / w)\n",
    "\n",
    "# controls Intensity\n",
    "mat[:, :, :] *= 1\n",
    "\n",
    "plt.imshow(mat)\n",
    "plt.show()"
   ]
  },
  {
   "cell_type": "code",
   "execution_count": null,
   "metadata": {},
   "outputs": [
    {
     "name": "stdout",
     "output_type": "stream",
     "text": [
      "C:/Users/aless/Desktop/default\n",
      "\n",
      "\n",
      "C:/Users/aless/Desktop/default/calibrazione_mono.txt\n",
      "\n",
      "\n",
      "('C:/Users/aless/Desktop/default/calibrazione_mono.txt', 'C:/Users/aless/Desktop/default/calibrazione_spettrometro.txt', 'C:/Users/aless/Desktop/default/ch1.txt')\n"
     ]
    }
   ],
   "source": [
    "from tkinter import filedialog\n",
    "\n",
    "NON_ESEGUIRE = False\n",
    "\n",
    "if NON_ESEGUIRE:    \n",
    "    from GRAFICA._modulo_elementi_grafici import Bottone_Push, PathButton\n",
    "\n",
    "class BottoniCallbacks:\n",
    "    def print_hello(bottone: 'Bottone_Push'):\n",
    "        bottone.testo = \"/green{Cliccato!}\"\n",
    "\n",
    "\n",
    "    def exit(bottone: 'Bottone_Push'):\n",
    "        exit()\n",
    "\n",
    "\n",
    "    def load_directory(bottone: 'PathButton'):\n",
    "        print(filedialog.askdirectory())\n",
    "\n",
    "\n",
    "    def load_file(bottone: 'PathButton'):\n",
    "        print(filedialog.askopenfilename())\n",
    "\n",
    "\n",
    "    def load_files(bottone: 'PathButton'):\n",
    "        print(filedialog.askopenfilenames())\n",
    "\n",
    "\n",
    "BottoniCallbacks.load_file()"
   ]
  },
  {
   "cell_type": "code",
   "execution_count": 1,
   "metadata": {},
   "outputs": [
    {
     "name": "stdout",
     "output_type": "stream",
     "text": [
      "pygame 2.6.0 (SDL 2.28.4, Python 3.12.4)\n",
      "Hello from the pygame community. https://www.pygame.org/contribute.html\n"
     ]
    }
   ],
   "source": [
    "import pygame\n",
    "\n",
    "# Initialize pygame\n",
    "pygame.init()\n",
    "\n",
    "# Create a base surface\n",
    "width, height = 800, 600\n",
    "base_surface = pygame.Surface((width, height))\n",
    "\n",
    "# Fill the base surface with a background color (optional)\n",
    "base_surface.fill((255, 255, 255))  # White background\n",
    "\n",
    "# Create another surface to blit onto the base surface\n",
    "overlay_surface = pygame.Surface((200, 200))\n",
    "overlay_surface.fill((255, 0, 0))  # Red square\n",
    "\n",
    "# Blit the overlay surface onto the base surface\n",
    "base_surface.blit(overlay_surface, (300, 200))\n",
    "\n",
    "# Save the resulting surface as a PNG file\n",
    "pygame.image.save(base_surface, \"output_image.png\")\n",
    "\n",
    "# Quit pygame\n",
    "pygame.quit()\n"
   ]
  }
 ],
 "metadata": {
  "kernelspec": {
   "display_name": "Python 3",
   "language": "python",
   "name": "python3"
  },
  "language_info": {
   "codemirror_mode": {
    "name": "ipython",
    "version": 3
   },
   "file_extension": ".py",
   "mimetype": "text/x-python",
   "name": "python",
   "nbconvert_exporter": "python",
   "pygments_lexer": "ipython3",
   "version": "3.12.4"
  }
 },
 "nbformat": 4,
 "nbformat_minor": 2
}
