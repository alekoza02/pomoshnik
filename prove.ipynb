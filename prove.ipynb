{
 "cells": [
  {
   "cell_type": "code",
   "execution_count": 4,
   "metadata": {},
   "outputs": [
    {
     "name": "stdout",
     "output_type": "stream",
     "text": [
      "frase.lstrip() = 'prova   '\n",
      "frase.rstrip() = '   prova'\n",
      "frase.strip() = 'prova'\n"
     ]
    }
   ],
   "source": [
    "frase = \"   prova   \"\n",
    "print(f\"{frase.lstrip() = }\")\n",
    "print(f\"{frase.rstrip() = }\")\n",
    "print(f\"{frase.strip() = }\")"
   ]
  },
  {
   "cell_type": "code",
   "execution_count": 6,
   "metadata": {},
   "outputs": [
    {
     "name": "stdout",
     "output_type": "stream",
     "text": [
      "frase.find(\"ppo\", 4) = 7\n",
      "frase.rfind(\"ppo\", 4) = 7\n"
     ]
    }
   ],
   "source": [
    "frase = \"Ciao pippo\"\n",
    "\n",
    "print(f\"{frase.find(\"ppo\", 4) = }\")\n",
    "print(f\"{frase.rfind(\"ppo\", 4) = }\")"
   ]
  },
  {
   "cell_type": "code",
   "execution_count": 5,
   "metadata": {},
   "outputs": [
    {
     "name": "stdout",
     "output_type": "stream",
     "text": [
      "19\n",
      "-1\n",
      "-1\n",
      "-1\n",
      "-1\n",
      "-1\n",
      "-1\n",
      "-1\n",
      "-1\n",
      "-1\n",
      "-1\n",
      "-1\n",
      "Risultato: 19\n"
     ]
    }
   ],
   "source": [
    "elenco_ricercatori = [\" \", \"\\\\\", \"/\", \",\", \".\", \"-\", \"{\", \"}\", \"[\", \"]\", \"(\", \")\"]\n",
    "\n",
    "# TODO FIX THIS SHIT\n",
    "testo = \"Prova testo alessio cimma\"\n",
    "puntatore_pos = 12\n",
    "\n",
    "# movimento verso destra\n",
    "dst = len(testo)\n",
    "for ricercatore in elenco_ricercatori:\n",
    "    candidato = testo.find(ricercatore, puntatore_pos + 1)\n",
    "    print(candidato)\n",
    "    if candidato >= 0:\n",
    "        dst = min(candidato, dst)\n",
    "\n",
    "print(f\"Risultato: {dst}\")"
   ]
  }
 ],
 "metadata": {
  "kernelspec": {
   "display_name": "Python 3",
   "language": "python",
   "name": "python3"
  },
  "language_info": {
   "codemirror_mode": {
    "name": "ipython",
    "version": 3
   },
   "file_extension": ".py",
   "mimetype": "text/x-python",
   "name": "python",
   "nbconvert_exporter": "python",
   "pygments_lexer": "ipython3",
   "version": "3.12.4"
  }
 },
 "nbformat": 4,
 "nbformat_minor": 2
}
